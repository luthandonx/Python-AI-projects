{
  "nbformat": 4,
  "nbformat_minor": 0,
  "metadata": {
    "colab": {
      "name": "NasDaq Analysis Using LSTM.ipynb",
      "provenance": [],
      "collapsed_sections": [],
      "mount_file_id": "1dM97NWV1au4-mTs_SygPZH4WmWwJIymC",
      "authorship_tag": "ABX9TyOY4lVyCrAM0grOIBtugHkd",
      "include_colab_link": true
    },
    "kernelspec": {
      "name": "python3",
      "display_name": "Python 3"
    },
    "language_info": {
      "name": "python"
    },
    "accelerator": "GPU",
    "gpuClass": "standard"
  },
  "cells": [
    {
      "cell_type": "markdown",
      "metadata": {
        "id": "view-in-github",
        "colab_type": "text"
      },
      "source": [
        "<a href=\"https://colab.research.google.com/github/luthandonx/Python-AI-projects/blob/main/NasDaq_Analysis_Using_LSTM.ipynb\" target=\"_parent\"><img src=\"https://colab.research.google.com/assets/colab-badge.svg\" alt=\"Open In Colab\"/></a>"
      ]
    },
    {
      "cell_type": "code",
      "source": [
        "!pip install -q seaborn\n"
      ],
      "metadata": {
        "id": "YsE8IomGf74s"
      },
      "execution_count": 1,
      "outputs": []
    },
    {
      "cell_type": "code",
      "source": [
        "# Lets Go SA40 \n",
        "import re\n",
        "import seaborn as sns\n",
        "\n",
        "f = open(\"/content/drive/MyDrive/SA40 /Nasdaq.txt\",\"r\")\n",
        "#f = open(\"/content/drive/MyDrive/SA40 /Test Data.txt\")\n",
        "\n",
        "count = 0\n",
        "date = []\n",
        "year = []\n",
        "price_Array = []\n",
        "open_Array = []\n",
        "high_Array = []\n",
        "s = []\n",
        "p = []\n",
        "low_Array = []\n",
        "volume_Array = []\n",
        "change_Array = []\n",
        "for x in f:\n",
        "  p.append(x.split())\n",
        "\n",
        "for s in p:\n",
        "  date.append(s[0])\n",
        "  price_Array.append(float(s[1].replace(\",\",\".\")))\n",
        "  open_Array.append(float(s[2].replace(\",\",\".\")))\n",
        "  high_Array.append(float(s[3].replace(\",\",\".\")))\n",
        "  low_Array.append(float(s[4].replace(\",\",\".\")))\n",
        "  volume_Array.append(float(s[5]))\n",
        "  change_Array.append(float(s[6].replace(\"%\",\"\")))\n",
        "\n",
        "\n",
        "\n",
        "#print(month[1],' ', day[1],' ', year[1], ' ',change_Array[1],' ',volume_Array[1],' ',low_Array[1],' ',high_Array[1],' ',open_Array[1],' ',price_Array[1],' ')\n",
        "print(type(change_Array[1]),' ',type(volume_Array[1]),' ',type(low_Array[1]),' ',type(high_Array[1]),' ',type(open_Array[1]),' ',type(price_Array[1]),' ')"
      ],
      "metadata": {
        "id": "QsMXMIG20yJW",
        "colab": {
          "base_uri": "https://localhost:8080/"
        },
        "outputId": "35d73d64-d395-4224-c635-de2eef94e105"
      },
      "execution_count": 2,
      "outputs": [
        {
          "output_type": "stream",
          "name": "stdout",
          "text": [
            "<class 'float'>   <class 'float'>   <class 'float'>   <class 'float'>   <class 'float'>   <class 'float'>  \n"
          ]
        }
      ]
    },
    {
      "cell_type": "code",
      "source": [
        "\n",
        "count = 0\n",
        "pcArry = []\n",
        "for x in price_Array:\n",
        "  pcArry.append(float(x))\n",
        "import pandas as pd\n",
        "import numpy as np\n",
        "last = len(pcArry)-1\n",
        "\n",
        "print(len(pcArry))\n",
        "print(last)\n",
        "\n",
        "np_Price = np.array(pcArry[3:last])\n",
        "np_high = np.array(high_Array[3:last])\n",
        "np_open = np.array(open_Array[3:last])\n",
        "np_low= np.array(low_Array[3:last])\n",
        "np_volume =np.array(volume_Array[3:last])\n",
        "np_change =np.array(change_Array[3:last])\n",
        "c1 = []\n",
        "c2 = []\n",
        "c3 = []\n",
        "#check the change of the privious 5 days\n",
        "\n",
        "for x in range(last):\n",
        "  if (x > 2):\n",
        "    c1.append(change_Array[x-1])\n",
        "    c2.append(change_Array[x-2])\n",
        "    c3.append(change_Array[x-3])\n",
        "\n",
        "np_c1 = np.array(c1)\n",
        "np_c2 = np.array(c2)\n",
        "np_c3 = np.array(c3)\n",
        "\n",
        "\n",
        "Y_data = []\n",
        "for y in range(4,len(change_Array)):\n",
        "  Y_data.append(change_Array[y])\n",
        "\n",
        "np_NDC = np.array(Y_data)\n",
        "\n",
        "print('Next Day Change Array: ',len(np_NDC))\n",
        "print('Change Array: ',len(np_change))\n",
        "print('CD2 Array: ',len(np_c1))\n",
        "\n"
      ],
      "metadata": {
        "id": "m2frDZXOJSWZ",
        "colab": {
          "base_uri": "https://localhost:8080/"
        },
        "outputId": "3b07e8ff-6ef4-4664-b4e2-7f6a5c9a2dd3"
      },
      "execution_count": 6,
      "outputs": [
        {
          "output_type": "stream",
          "name": "stdout",
          "text": [
            "4995\n",
            "4994\n",
            "Next Day Change Array:  4991\n",
            "Change Array:  4991\n",
            "CD2 Array:  4991\n"
          ]
        }
      ]
    },
    {
      "cell_type": "markdown",
      "source": [
        "i can add another column that holds the values of the difference in the change% between the previous day and the next day"
      ],
      "metadata": {
        "id": "ddb9z2N3Fj_r"
      }
    },
    {
      "cell_type": "code",
      "source": [
        "#dataset = pd.DataFrame({ 'NextDayChange':np_NDC,'Price': np_Price,\"open\": np_open, 'high': np_high , 'low': np_low ,'volume':np_volume , 'change': np_change }, columns=['NextDayChange','Price','open', 'high','low','volume','change'])\n",
        "dataset = pd.DataFrame({ 'NextDayChange':np_NDC,'Price': np_Price,\"open\": np_open, 'high': np_high , 'low': np_low ,'volume':np_volume , 'change': np_change, 'CDB1':np_c1 , 'CDB2': np_c2, 'CDB3': np_c3 }, columns=['NextDayChange','Price','open', 'high','low','volume','change','CDB1', 'CDB2','CDB3'])\n",
        "print(dataset)"
      ],
      "metadata": {
        "colab": {
          "base_uri": "https://localhost:8080/"
        },
        "id": "2YPhnK1uOAa0",
        "outputId": "d013fdee-21ee-4135-cf53-2af48d8ec492"
      },
      "execution_count": 7,
      "outputs": [
        {
          "output_type": "stream",
          "name": "stdout",
          "text": [
            "      NextDayChange  Price    open    high     low  volume  change    CDB1  \\\n",
            "0            151.18   31.0  2022.0  155.26  154.29  156.37  153.98  152.18   \n",
            "1            147.51   27.0  2022.0  155.64  152.52  155.69  151.18  153.98   \n",
            "2            145.70   26.0  2022.0  150.93  148.21  151.55  147.51  151.18   \n",
            "3            144.10   25.0  2022.0  147.50  146.22  148.39  145.70  147.51   \n",
            "4            145.72   24.0  2022.0  146.63  146.43  147.26  144.10  145.70   \n",
            "...             ...    ...     ...     ...     ...     ...     ...     ...   \n",
            "4986          14.00   10.0  2002.0   15.50   13.75   15.50   13.75   15.00   \n",
            "4987          14.00    9.0  2002.0   15.50   14.00   15.50   14.00   13.75   \n",
            "4988          15.00    8.0  2002.0   14.00   14.00   14.00   14.00   14.00   \n",
            "4989          14.00    5.0  2002.0   15.00   15.00   15.00   15.00   14.00   \n",
            "4990          15.00    3.0  2002.0   15.00   14.00   16.00   14.00   15.00   \n",
            "\n",
            "        CDB2    CDB3  \n",
            "0     151.40  152.73  \n",
            "1     152.18  151.40  \n",
            "2     153.98  152.18  \n",
            "3     151.18  153.98  \n",
            "4     147.51  151.18  \n",
            "...      ...     ...  \n",
            "4986   12.50   12.50  \n",
            "4987   15.00   12.50  \n",
            "4988   13.75   15.00  \n",
            "4989   14.00   13.75  \n",
            "4990   14.00   14.00  \n",
            "\n",
            "[4991 rows x 10 columns]\n"
          ]
        }
      ]
    },
    {
      "cell_type": "code",
      "source": [
        "from sklearn.preprocessing import MinMaxScaler\n",
        "sc = MinMaxScaler(feature_range=(0,1))\n",
        "data_set_scaled = sc.fit_transform(dataset)\n",
        "print(data_set_scaled)"
      ],
      "metadata": {
        "colab": {
          "base_uri": "https://localhost:8080/"
        },
        "id": "5Ox8Lp72MdsH",
        "outputId": "229859ba-9dad-4a7c-b54c-5d70c4459c1a"
      },
      "execution_count": 8,
      "outputs": [
        {
          "output_type": "stream",
          "name": "stdout",
          "text": [
            "[[0.7063803  1.         1.         ... 0.71121753 0.70744449 0.71387801]\n",
            " [0.68862768 0.86666667 1.         ... 0.71992454 0.71121753 0.70744449]\n",
            " [0.6798723  0.83333333 1.         ... 0.7063803  0.71992454 0.71121753]\n",
            " ...\n",
            " [0.04764669 0.23333333 0.         ... 0.04280946 0.04160015 0.04764669]\n",
            " [0.04280946 0.13333333 0.         ... 0.04280946 0.04280946 0.04160015]\n",
            " [0.04764669 0.06666667 0.         ... 0.04764669 0.04280946 0.04280946]]\n"
          ]
        }
      ]
    },
    {
      "cell_type": "code",
      "source": [
        "dataset=data_set_scaled"
      ],
      "metadata": {
        "id": "FsiGfAGjLSQT"
      },
      "execution_count": 9,
      "outputs": []
    },
    {
      "cell_type": "code",
      "source": [
        "# multiple feature from data provided to the model\n",
        "X = []\n",
        "#print(data_set_scaled[0].size)\n",
        "#data_set_scaled=data_set.values\n",
        "backcandles = 30\n",
        "print(data_set_scaled.shape[0])\n",
        "for j in range(8):#data_set_scaled[0].size):#2 columns are target not X\n",
        "    X.append([])\n",
        "    for i in range(backcandles, data_set_scaled.shape[0]):#backcandles+2\n",
        "        X[j].append(data_set_scaled[i-backcandles:i, j])\n",
        "\n",
        "X=np.moveaxis(X, [0], [2])\n",
        "X, yi =np.array(X), np.array(data_set_scaled[backcandles:,-1])\n",
        "y=np.reshape(yi,(len(yi),1))\n",
        "#y=sc.fit_transform(yi)\n",
        "#X_train = np.reshape(X_train, (X_train.shape[0], X_train.shape[1], 1))\n",
        "print(X)\n",
        "print(X.shape)\n",
        "print(y)\n",
        "print(y.shape)\n",
        "\n",
        "\n",
        "splitlimit = int(len(X)*0.8)\n",
        "print(splitlimit)\n",
        "X_train, X_test = X[:splitlimit], X[splitlimit:]\n",
        "y_train, y_test = y[:splitlimit], y[splitlimit:]\n",
        "print(X_train.shape)\n",
        "print(X_test.shape)\n",
        "print(y_train.shape)\n",
        "print(y_test.shape)\n",
        "print(y_train)"
      ],
      "metadata": {
        "colab": {
          "base_uri": "https://localhost:8080/"
        },
        "id": "8hnLuvAAWtsQ",
        "outputId": "d8dfb7aa-6a17-454d-da27-4cab3475e461"
      },
      "execution_count": 10,
      "outputs": [
        {
          "output_type": "stream",
          "name": "stdout",
          "text": [
            "4991\n",
            "[[[0.7063803  1.         1.         ... 0.72061418 0.71992454 0.71121753]\n",
            "  [0.68862768 0.86666667 1.         ... 0.71737161 0.7063803  0.71992454]\n",
            "  [0.6798723  0.83333333 1.         ... 0.69763006 0.68862768 0.7063803 ]\n",
            "  ...\n",
            "  [0.80578532 0.66666667 1.         ... 0.80287063 0.79112853 0.7817443 ]\n",
            "  [0.83509892 0.63333333 1.         ... 0.83090935 0.80578532 0.79112853]\n",
            "  [0.82958448 0.6        1.         ... 0.83901578 0.83509892 0.80578532]]\n",
            "\n",
            " [[0.68862768 0.86666667 1.         ... 0.71737161 0.7063803  0.71992454]\n",
            "  [0.6798723  0.83333333 1.         ... 0.69763006 0.68862768 0.7063803 ]\n",
            "  [0.67213273 0.8        1.         ... 0.68256163 0.6798723  0.68862768]\n",
            "  ...\n",
            "  [0.83509892 0.63333333 1.         ... 0.83090935 0.80578532 0.79112853]\n",
            "  [0.82958448 0.6        1.         ... 0.83901578 0.83509892 0.80578532]\n",
            "  [0.83819475 0.56666667 1.         ... 0.82776215 0.82958448 0.83509892]]\n",
            "\n",
            " [[0.6798723  0.83333333 1.         ... 0.69763006 0.68862768 0.7063803 ]\n",
            "  [0.67213273 0.8        1.         ... 0.68256163 0.6798723  0.68862768]\n",
            "  [0.67996904 0.76666667 1.         ... 0.67717324 0.67213273 0.6798723 ]\n",
            "  ...\n",
            "  [0.82958448 0.6        1.         ... 0.83901578 0.83509892 0.80578532]\n",
            "  [0.83819475 0.56666667 1.         ... 0.82776215 0.82958448 0.83509892]\n",
            "  [0.84095197 0.43333333 1.         ... 0.84459492 0.83819475 0.82958448]]\n",
            "\n",
            " ...\n",
            "\n",
            " [[0.0319257  0.7        0.         ... 0.03099518 0.02829778 0.02829778]\n",
            "  [0.03120012 0.66666667 0.         ... 0.03218731 0.0319257  0.02829778]\n",
            "  [0.03144198 0.63333333 0.         ... 0.03027991 0.03120012 0.0319257 ]\n",
            "  ...\n",
            "  [0.04160015 0.36666667 0.         ... 0.04649278 0.04764669 0.03555362]\n",
            "  [0.04280946 0.3        0.         ... 0.04887702 0.04160015 0.04764669]\n",
            "  [0.04280946 0.26666667 0.         ... 0.04887702 0.04280946 0.04160015]]\n",
            "\n",
            " [[0.03120012 0.66666667 0.         ... 0.03218731 0.0319257  0.02829778]\n",
            "  [0.03144198 0.63333333 0.         ... 0.03027991 0.03120012 0.0319257 ]\n",
            "  [0.03313501 0.6        0.         ... 0.03290258 0.03144198 0.03120012]\n",
            "  ...\n",
            "  [0.04280946 0.3        0.         ... 0.04887702 0.04160015 0.04764669]\n",
            "  [0.04280946 0.26666667 0.         ... 0.04887702 0.04280946 0.04160015]\n",
            "  [0.04764669 0.23333333 0.         ... 0.04172429 0.04280946 0.04280946]]\n",
            "\n",
            " [[0.03144198 0.63333333 0.         ... 0.03027991 0.03120012 0.0319257 ]\n",
            "  [0.03313501 0.6        0.         ... 0.03290258 0.03144198 0.03120012]\n",
            "  [0.03361873 0.5        0.         ... 0.03290258 0.03313501 0.03144198]\n",
            "  ...\n",
            "  [0.04280946 0.26666667 0.         ... 0.04887702 0.04280946 0.04160015]\n",
            "  [0.04764669 0.23333333 0.         ... 0.04172429 0.04280946 0.04280946]\n",
            "  [0.04280946 0.13333333 0.         ... 0.04649278 0.04764669 0.04280946]]]\n",
            "(4961, 30, 8)\n",
            "[[0.79112853]\n",
            " [0.80578532]\n",
            " [0.83509892]\n",
            " ...\n",
            " [0.04764669]\n",
            " [0.04160015]\n",
            " [0.04280946]]\n",
            "(4961, 1)\n",
            "3968\n",
            "(3968, 30, 8)\n",
            "(993, 30, 8)\n",
            "(3968, 1)\n",
            "(993, 1)\n",
            "[[0.79112853]\n",
            " [0.80578532]\n",
            " [0.83509892]\n",
            " ...\n",
            " [0.09761525]\n",
            " [0.10061433]\n",
            " [0.099792  ]]\n"
          ]
        }
      ]
    },
    {
      "cell_type": "code",
      "source": [
        "from keras.models import Sequential\n",
        "from keras.layers import LSTM\n",
        "from keras.layers import Dropout\n",
        "from keras.layers import Dense\n",
        "from keras.layers import TimeDistributed\n",
        "\n",
        "import tensorflow as tf\n",
        "import keras\n",
        "from keras import optimizers\n",
        "from keras.callbacks import History\n",
        "from keras.models import Model\n",
        "from keras.layers import Dense, Dropout, LSTM, Input, Activation, concatenate\n",
        "import numpy as np\n",
        "#tf.random.set_seed(20)\n",
        "np.random.seed(10)\n",
        "\n",
        "lstm_input = Input(shape=(backcandles, 8), name='lstm_input')\n",
        "inputs = LSTM(150, name='first_layer')(lstm_input)\n",
        "inputs = Dense(1, name='dense_layer')(inputs)\n",
        "output = Activation('linear', name='output')(inputs)\n",
        "model = Model(inputs=lstm_input, outputs=output)\n",
        "model.compile(loss='mean_absolute_error',optimizer=tf.keras.optimizers.Adam(0.001),metrics=['accuracy'])\n",
        "model.fit(x=X_train, y=y_train, batch_size=15, epochs=30, shuffle=True, validation_split = 0.1)"
      ],
      "metadata": {
        "colab": {
          "base_uri": "https://localhost:8080/"
        },
        "id": "eJwoIovfXFxg",
        "outputId": "a913d3ee-0ec6-4c54-fcdb-604318a29ae8"
      },
      "execution_count": 11,
      "outputs": [
        {
          "output_type": "stream",
          "name": "stdout",
          "text": [
            "Epoch 1/30\n",
            "239/239 [==============================] - 5s 8ms/step - loss: 0.0122 - accuracy: 2.8003e-04 - val_loss: 0.0109 - val_accuracy: 0.0000e+00\n",
            "Epoch 2/30\n",
            "239/239 [==============================] - 1s 6ms/step - loss: 0.0050 - accuracy: 2.8003e-04 - val_loss: 0.0028 - val_accuracy: 0.0000e+00\n",
            "Epoch 3/30\n",
            "239/239 [==============================] - 1s 6ms/step - loss: 0.0045 - accuracy: 2.8003e-04 - val_loss: 0.0041 - val_accuracy: 0.0000e+00\n",
            "Epoch 4/30\n",
            "239/239 [==============================] - 1s 6ms/step - loss: 0.0044 - accuracy: 2.8003e-04 - val_loss: 0.0028 - val_accuracy: 0.0000e+00\n",
            "Epoch 5/30\n",
            "239/239 [==============================] - 1s 6ms/step - loss: 0.0044 - accuracy: 2.8003e-04 - val_loss: 0.0042 - val_accuracy: 0.0000e+00\n",
            "Epoch 6/30\n",
            "239/239 [==============================] - 1s 6ms/step - loss: 0.0041 - accuracy: 2.8003e-04 - val_loss: 0.0045 - val_accuracy: 0.0000e+00\n",
            "Epoch 7/30\n",
            "239/239 [==============================] - 1s 6ms/step - loss: 0.0035 - accuracy: 2.8003e-04 - val_loss: 0.0026 - val_accuracy: 0.0000e+00\n",
            "Epoch 8/30\n",
            "239/239 [==============================] - 1s 6ms/step - loss: 0.0034 - accuracy: 2.8003e-04 - val_loss: 0.0049 - val_accuracy: 0.0000e+00\n",
            "Epoch 9/30\n",
            "239/239 [==============================] - 1s 6ms/step - loss: 0.0034 - accuracy: 2.8003e-04 - val_loss: 0.0017 - val_accuracy: 0.0000e+00\n",
            "Epoch 10/30\n",
            "239/239 [==============================] - 1s 6ms/step - loss: 0.0034 - accuracy: 2.8003e-04 - val_loss: 0.0023 - val_accuracy: 0.0000e+00\n",
            "Epoch 11/30\n",
            "239/239 [==============================] - 1s 6ms/step - loss: 0.0035 - accuracy: 2.8003e-04 - val_loss: 0.0023 - val_accuracy: 0.0000e+00\n",
            "Epoch 12/30\n",
            "239/239 [==============================] - 1s 6ms/step - loss: 0.0031 - accuracy: 2.8003e-04 - val_loss: 0.0034 - val_accuracy: 0.0000e+00\n",
            "Epoch 13/30\n",
            "239/239 [==============================] - 1s 6ms/step - loss: 0.0026 - accuracy: 2.8003e-04 - val_loss: 0.0017 - val_accuracy: 0.0000e+00\n",
            "Epoch 14/30\n",
            "239/239 [==============================] - 1s 6ms/step - loss: 0.0030 - accuracy: 2.8003e-04 - val_loss: 0.0016 - val_accuracy: 0.0000e+00\n",
            "Epoch 15/30\n",
            "239/239 [==============================] - 1s 6ms/step - loss: 0.0027 - accuracy: 2.8003e-04 - val_loss: 0.0018 - val_accuracy: 0.0000e+00\n",
            "Epoch 16/30\n",
            "239/239 [==============================] - 1s 6ms/step - loss: 0.0027 - accuracy: 2.8003e-04 - val_loss: 0.0015 - val_accuracy: 0.0000e+00\n",
            "Epoch 17/30\n",
            "239/239 [==============================] - 2s 7ms/step - loss: 0.0033 - accuracy: 2.8003e-04 - val_loss: 0.0058 - val_accuracy: 0.0000e+00\n",
            "Epoch 18/30\n",
            "239/239 [==============================] - 1s 6ms/step - loss: 0.0028 - accuracy: 2.8003e-04 - val_loss: 0.0028 - val_accuracy: 0.0000e+00\n",
            "Epoch 19/30\n",
            "239/239 [==============================] - 1s 6ms/step - loss: 0.0024 - accuracy: 2.8003e-04 - val_loss: 0.0033 - val_accuracy: 0.0000e+00\n",
            "Epoch 20/30\n",
            "239/239 [==============================] - 1s 6ms/step - loss: 0.0026 - accuracy: 2.8003e-04 - val_loss: 0.0024 - val_accuracy: 0.0000e+00\n",
            "Epoch 21/30\n",
            "239/239 [==============================] - 1s 6ms/step - loss: 0.0026 - accuracy: 2.8003e-04 - val_loss: 0.0022 - val_accuracy: 0.0000e+00\n",
            "Epoch 22/30\n",
            "239/239 [==============================] - 1s 6ms/step - loss: 0.0020 - accuracy: 2.8003e-04 - val_loss: 0.0026 - val_accuracy: 0.0000e+00\n",
            "Epoch 23/30\n",
            "239/239 [==============================] - 1s 6ms/step - loss: 0.0020 - accuracy: 2.8003e-04 - val_loss: 0.0012 - val_accuracy: 0.0000e+00\n",
            "Epoch 24/30\n",
            "239/239 [==============================] - 1s 6ms/step - loss: 0.0030 - accuracy: 2.8003e-04 - val_loss: 0.0036 - val_accuracy: 0.0000e+00\n",
            "Epoch 25/30\n",
            "239/239 [==============================] - 1s 5ms/step - loss: 0.0022 - accuracy: 2.8003e-04 - val_loss: 0.0020 - val_accuracy: 0.0000e+00\n",
            "Epoch 26/30\n",
            "239/239 [==============================] - 1s 6ms/step - loss: 0.0017 - accuracy: 2.8003e-04 - val_loss: 0.0017 - val_accuracy: 0.0000e+00\n",
            "Epoch 27/30\n",
            "239/239 [==============================] - 1s 5ms/step - loss: 0.0019 - accuracy: 2.8003e-04 - val_loss: 0.0043 - val_accuracy: 0.0000e+00\n",
            "Epoch 28/30\n",
            "239/239 [==============================] - 1s 5ms/step - loss: 0.0021 - accuracy: 2.8003e-04 - val_loss: 0.0027 - val_accuracy: 0.0000e+00\n",
            "Epoch 29/30\n",
            "239/239 [==============================] - 1s 6ms/step - loss: 0.0020 - accuracy: 2.8003e-04 - val_loss: 0.0049 - val_accuracy: 0.0000e+00\n",
            "Epoch 30/30\n",
            "239/239 [==============================] - 1s 6ms/step - loss: 0.0017 - accuracy: 2.8003e-04 - val_loss: 0.0023 - val_accuracy: 0.0000e+00\n"
          ]
        },
        {
          "output_type": "execute_result",
          "data": {
            "text/plain": [
              "<keras.callbacks.History at 0x7fa6f0326890>"
            ]
          },
          "metadata": {},
          "execution_count": 11
        }
      ]
    },
    {
      "cell_type": "code",
      "source": [
        "import matplotlib.pyplot as plt\n",
        "\n",
        "\n",
        "test_predictions = model.predict(X_test).flatten()\n",
        "\n",
        "a = plt.axes(aspect='equal')\n",
        "plt.scatter(y_test, test_predictions)\n",
        "plt.xlabel('True Values [NextDayChange]')\n",
        "plt.ylabel('Predictions [NextDayChange]')\n",
        "lims = [0, 1]\n",
        "plt.xlim(lims)\n",
        "plt.ylim(lims)\n",
        "_ = plt.plot(lims, lims)"
      ],
      "metadata": {
        "id": "tSmVBqIeYPvF",
        "colab": {
          "base_uri": "https://localhost:8080/",
          "height": 283
        },
        "outputId": "f7ceb3e2-ef98-44e8-c28c-cc1b665dad61"
      },
      "execution_count": 12,
      "outputs": [
        {
          "output_type": "display_data",
          "data": {
            "text/plain": [
              "<Figure size 432x288 with 1 Axes>"
            ],
            "image/png": "[encoded data removed]"
          },
          "metadata": {
            "needs_background": "light"
          }
        }
      ]
    },
    {
      "cell_type": "code",
      "source": [
        "error = test_predictions - y_test\n",
        "plt.hist(error, bins=10)\n",
        "plt.xlabel('Prediction Error [NextDayChange]')\n",
        "_ = plt.ylabel('Count')"
      ],
      "metadata": {
        "id": "Y4m2L35CX_5v",
        "colab": {
          "base_uri": "https://localhost:8080/",
          "height": 279
        },
        "outputId": "0cd072bc-3f0e-4c94-d672-e108b015e20f"
      },
      "execution_count": 13,
      "outputs": [
        {
          "output_type": "display_data",
          "data": {
            "text/plain": [
              "<Figure size 432x288 with 1 Axes>"
            ],
            "image/png": "[encoded data removed]"
          },
          "metadata": {
            "needs_background": "light"
          }
        }
      ]
    },
    {
      "cell_type": "code",
      "source": [
        "model.save('dnn_model')"
      ],
      "metadata": {
        "id": "5eXAi6mVYc4u",
        "colab": {
          "base_uri": "https://localhost:8080/"
        },
        "outputId": "eac89ba5-075a-4b67-88ef-5d5fb2c77cb0"
      },
      "execution_count": 14,
      "outputs": [
        {
          "output_type": "stream",
          "name": "stderr",
          "text": [
            "WARNING:absl:Found untraced functions such as lstm_cell_layer_call_fn, lstm_cell_layer_call_and_return_conditional_losses while saving (showing 2 of 2). These functions will not be directly callable after loading.\n",
            "WARNING:absl:<keras.layers.recurrent.LSTMCell object at 0x7fa6fd514f50> has the same name 'LSTMCell' as a built-in Keras object. Consider renaming <class 'keras.layers.recurrent.LSTMCell'> to avoid naming conflicts when loading with `tf.keras.models.load_model`. If renaming is not possible, pass the object in the `custom_objects` parameter of the load function.\n"
          ]
        }
      ]
    },
    {
      "cell_type": "code",
      "source": [
        ""
      ],
      "metadata": {
        "id": "nPoN48YlYjXg",
        "colab": {
          "base_uri": "https://localhost:8080/",
          "height": 201
        },
        "outputId": "c10861ed-4b30-4d47-c742-700cbbbaad66"
      },
      "execution_count": null,
      "outputs": [
        {
          "output_type": "error",
          "ename": "NameError",
          "evalue": "ignored",
          "traceback": [
            "\u001b[0;31m---------------------------------------------------------------------------\u001b[0m",
            "\u001b[0;31mNameError\u001b[0m                                 Traceback (most recent call last)",
            "\u001b[0;32m<ipython-input-25-7cfc56d14b51>\u001b[0m in \u001b[0;36m<module>\u001b[0;34m\u001b[0m\n\u001b[1;32m      2\u001b[0m \u001b[0;34m\u001b[0m\u001b[0m\n\u001b[1;32m      3\u001b[0m test_results['reloaded'] = reloaded.evaluate(\n\u001b[0;32m----> 4\u001b[0;31m     X_test, Y_test, verbose=0)\n\u001b[0m",
            "\u001b[0;31mNameError\u001b[0m: name 'test_results' is not defined"
          ]
        }
      ]
    }
  ]
}