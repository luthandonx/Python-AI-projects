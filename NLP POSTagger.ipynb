{
  "nbformat": 4,
  "nbformat_minor": 0,
  "metadata": {
    "colab": {
      "name": "Assignment.ipynb",
      "provenance": [],
      "collapsed_sections": []
    },
    "kernelspec": {
      "display_name": "Python 3",
      "name": "python3"
    },
    "language_info": {
      "name": "python"
    }
  },
  "cells": [
    {
      "cell_type": "code",
      "metadata": {
        "colab": {
          "base_uri": "https://localhost:8080/"
        },
        "id": "5oqZ-S4YF8Qf",
        "outputId": "7bc9ff93-41e6-42d1-d002-950bb5124b78"
      },
      "source": [
        "# first add all the data into a exel spread sheet\n",
        "c =  0\n",
        "with open('train.txt') as f:\n",
        "  lines = f.readlines()\n",
        "\n",
        "words = [[]]\n",
        "for w in lines:\n",
        "#  print(w.split() , len(w.split()))\n",
        "  x = len(w.split())\n",
        "  if ( x == 4 ) :\n",
        "    words.append(w.split())\n",
        "\n",
        "print(len(words))\n",
        "words.remove([])"
      ],
      "execution_count": null,
      "outputs": [
        {
          "output_type": "stream",
          "text": [
            "204567\n"
          ],
          "name": "stdout"
        }
      ]
    },
    {
      "cell_type": "code",
      "metadata": {
        "colab": {
          "base_uri": "https://localhost:8080/"
        },
        "id": "wCUb09IRasYn",
        "outputId": "35c9fae4-a2b5-4b4c-94be-f561eac7d8fc"
      },
      "source": [
        "#now create table to add the words\n",
        "import xlsxwriter\n",
        "import openpyxl\n",
        "\n",
        "workbook = xlsxwriter.Workbook('TrainBook.xlsx')\n",
        "trainSheet = workbook.add_worksheet()\n",
        "trainSheet.write('A1','Word')\n",
        "trainSheet.write('B1','POS')\n",
        "trainSheet.write('C1','Chunk Tag')\n",
        "trainSheet.write('D1','NER Tag')"
      ],
      "execution_count": null,
      "outputs": [
        {
          "output_type": "execute_result",
          "data": {
            "text/plain": [
              "0"
            ]
          },
          "metadata": {
            "tags": []
          },
          "execution_count": 178
        }
      ]
    },
    {
      "cell_type": "code",
      "metadata": {
        "colab": {
          "base_uri": "https://localhost:8080/"
        },
        "id": "Cgqg0Klxk1DZ",
        "outputId": "01cce148-fd7c-4722-b392-d5d71e1bbd8f"
      },
      "source": [
        "#add all the data into the spreedSheet\n",
        "row = 1 \n",
        "col = 0\n",
        "\n",
        "print(len(words))\n",
        "for w , p , c , n in words:\n",
        "  trainSheet.write(row , col , w)\n",
        "  trainSheet.write(row , col + 1 , p)\n",
        "  trainSheet.write(row , col + 2 , c)\n",
        "  trainSheet.write(row , col + 3, n)\n",
        "  row = row + 1\n",
        "workbook.close()"
      ],
      "execution_count": null,
      "outputs": [
        {
          "output_type": "stream",
          "text": [
            "204566\n"
          ],
          "name": "stdout"
        }
      ]
    },
    {
      "cell_type": "code",
      "metadata": {
        "colab": {
          "base_uri": "https://localhost:8080/"
        },
        "id": "ivGcnpZD1_CK",
        "outputId": "1189e399-d28f-42c6-d846-e774e1e34887"
      },
      "source": [
        "pip install xlrd"
      ],
      "execution_count": null,
      "outputs": [
        {
          "output_type": "stream",
          "text": [
            "Requirement already satisfied: xlrd in /usr/local/lib/python3.7/dist-packages (1.1.0)\n"
          ],
          "name": "stdout"
        }
      ]
    },
    {
      "cell_type": "code",
      "metadata": {
        "colab": {
          "base_uri": "https://localhost:8080/",
          "height": 331
        },
        "id": "RsiWkssC4s4P",
        "outputId": "6bbc31ef-70d4-4dc4-da11-9c17728177d2"
      },
      "source": [
        "import pandas as pd\n",
        "data = pd.read_csv('TrainBook.csv', encoding= 'unicode_escape')\n",
        "data.head()\n",
        "\n",
        "#creating a uneque index for each word for embedding\n",
        "from itertools import chain\n",
        "w = data[\"Word\"].to_list()\n",
        "x = list(set(w))\n",
        "t = data[\"NER Tag\"].to_list()\n",
        "z = list(set(t))\n",
        "dic = dict(zip(x, list(range(1,len(x)+1)))) \n",
        "word2idx =[dic[v] for v in w]\n",
        "dic = dict(zip(z, list(range(1,len(z)+1))))\n",
        "tag2idx =[dic[v] for v in t]\n",
        "#print(word2idx)\n",
        "#print(tag2idx)\n",
        "\n",
        "#creating an index for the sentences for the training set \n",
        "sen = 1\n",
        "numSen = []\n",
        "for words in w:\n",
        "  numSen.append(sen) \n",
        "  if words == '.':\n",
        "    sen = sen + 1\n",
        "\n",
        "#Adding the tag index, word index and sentence in the data tables\n",
        "data[\"Word_Index\"] = word2idx\n",
        "data[\"Tag_Index\"] = tag2idx\n",
        "data[\"Sentence_Index\"] = numSen\n",
        "data.head()\n",
        "\n",
        "# collect the sentences and group them and pad them\n",
        "\n",
        "#Group data into sentences\n",
        "dataSen = data.fillna(method= 'ffill',axis = 0)\n",
        "dataGroup = dataSen.groupby(['Sentence_Index'],as_index=False)[\"Word\",\"NER Tag\",\"Word_Index\",\"Tag_Index\"].agg(lambda x: list(x))\n",
        "dataGroup.head()"
      ],
      "execution_count": 3,
      "outputs": [
        {
          "output_type": "stream",
          "text": [
            "/usr/local/lib/python3.7/dist-packages/ipykernel_launcher.py:36: FutureWarning: Indexing with multiple keys (implicitly converted to a tuple of keys) will be deprecated, use a list instead.\n"
          ],
          "name": "stderr"
        },
        {
          "output_type": "execute_result",
          "data": {
            "text/html": [
              "<div>\n",
              "<style scoped>\n",
              "    .dataframe tbody tr th:only-of-type {\n",
              "        vertical-align: middle;\n",
              "    }\n",
              "\n",
              "    .dataframe tbody tr th {\n",
              "        vertical-align: top;\n",
              "    }\n",
              "\n",
              "    .dataframe thead th {\n",
              "        text-align: right;\n",
              "    }\n",
              "</style>\n",
              "<table border=\"1\" class=\"dataframe\">\n",
              "  <thead>\n",
              "    <tr style=\"text-align: right;\">\n",
              "      <th></th>\n",
              "      <th>Sentence_Index</th>\n",
              "      <th>Word</th>\n",
              "      <th>NER Tag</th>\n",
              "      <th>Word_Index</th>\n",
              "      <th>Tag_Index</th>\n",
              "    </tr>\n",
              "  </thead>\n",
              "  <tbody>\n",
              "    <tr>\n",
              "      <th>0</th>\n",
              "      <td>1</td>\n",
              "      <td>[EU, rejects, German, call, to, boycott, Briti...</td>\n",
              "      <td>[B-ORG, O, B-MISC, O, O, O, B-MISC, O, O]</td>\n",
              "      <td>[5300, 9302, 11325, 5635, 5754, 6422, 3509, 10...</td>\n",
              "      <td>[8, 5, 1, 5, 5, 5, 1, 5, 5]</td>\n",
              "    </tr>\n",
              "    <tr>\n",
              "      <th>1</th>\n",
              "      <td>2</td>\n",
              "      <td>[Peter, Blackburn, BRUSSELS, 1996-08-22, The, ...</td>\n",
              "      <td>[B-PER, I-PER, B-LOC, O, O, B-ORG, I-ORG, O, O...</td>\n",
              "      <td>[6306, 4557, 7806, 4177, 1328, 2786, 2391, 519...</td>\n",
              "      <td>[10, 3, 6, 5, 5, 8, 7, 5, 5, 5, 5, 5, 5, 1, 5,...</td>\n",
              "    </tr>\n",
              "    <tr>\n",
              "      <th>2</th>\n",
              "      <td>3</td>\n",
              "      <td>[Germany, 's, representative, to, the, Europea...</td>\n",
              "      <td>[B-LOC, O, O, O, O, B-ORG, I-ORG, O, O, O, B-P...</td>\n",
              "      <td>[11127, 8122, 5278, 5754, 5429, 2786, 5281, 81...</td>\n",
              "      <td>[6, 5, 5, 5, 5, 8, 7, 5, 5, 5, 10, 3, 5, 5, 5,...</td>\n",
              "    </tr>\n",
              "    <tr>\n",
              "      <th>3</th>\n",
              "      <td>4</td>\n",
              "      <td>[\", We, do, n't, support, any, such, recommend...</td>\n",
              "      <td>[O, O, O, O, O, O, O, O, O, O, O, O, O, O, O, ...</td>\n",
              "      <td>[11480, 156, 3355, 4566, 11543, 697, 8482, 508...</td>\n",
              "      <td>[5, 5, 5, 5, 5, 5, 5, 5, 5, 5, 5, 5, 5, 5, 5, ...</td>\n",
              "    </tr>\n",
              "    <tr>\n",
              "      <th>4</th>\n",
              "      <td>5</td>\n",
              "      <td>[He, said, further, scientific, study, was, re...</td>\n",
              "      <td>[O, O, O, O, O, O, O, O, O, O, O, O, O, O, O, ...</td>\n",
              "      <td>[6917, 5192, 3752, 10943, 2069, 8104, 4507, 60...</td>\n",
              "      <td>[5, 5, 5, 5, 5, 5, 5, 5, 5, 5, 5, 5, 5, 5, 5, ...</td>\n",
              "    </tr>\n",
              "  </tbody>\n",
              "</table>\n",
              "</div>"
            ],
            "text/plain": [
              "   Sentence_Index  ...                                          Tag_Index\n",
              "0               1  ...                        [8, 5, 1, 5, 5, 5, 1, 5, 5]\n",
              "1               2  ...  [10, 3, 6, 5, 5, 8, 7, 5, 5, 5, 5, 5, 5, 1, 5,...\n",
              "2               3  ...  [6, 5, 5, 5, 5, 8, 7, 5, 5, 5, 10, 3, 5, 5, 5,...\n",
              "3               4  ...  [5, 5, 5, 5, 5, 5, 5, 5, 5, 5, 5, 5, 5, 5, 5, ...\n",
              "4               5  ...  [5, 5, 5, 5, 5, 5, 5, 5, 5, 5, 5, 5, 5, 5, 5, ...\n",
              "\n",
              "[5 rows x 5 columns]"
            ]
          },
          "metadata": {
            "tags": []
          },
          "execution_count": 3
        }
      ]
    },
    {
      "cell_type": "code",
      "metadata": {
        "colab": {
          "base_uri": "https://localhost:8080/"
        },
        "id": "1OupLIRZB1iM",
        "outputId": "2147cf2c-6735-4cdd-9129-5d60e6c00bf1"
      },
      "source": [
        "#Get the X and Y values for the training Set\n",
        "import pandas as pd\n",
        "#dataGroup = pd.read_csv('TrainBook.csv', encoding= 'unicode_escape')\n",
        "\n",
        "from keras.preprocessing.sequence import pad_sequences\n",
        "from tensorflow.keras.utils import to_categorical\n",
        "from sklearn.model_selection import train_test_split\n",
        "import math\n",
        "#Get X \n",
        "X_tokens = dataGroup[\"Word_Index\"].to_list()\n",
        "num = 0\n",
        "n_tags = len(tag2idx)\n",
        "maxlength = 10\n",
        "print(maxlength, 'largest length of a sentence') # the max length is too large so we use the averge length of the sentences\n",
        "#print(avg/num, \"Averge length of sentences\") #  the averge length of a sentence is 30 so we set the max length to 50\n",
        "maxlength = 30\n",
        "\n",
        "\n",
        "#60% of the set\n",
        "count = 1\n",
        "x = []\n",
        "for toks in X_tokens:\n",
        "  x.append(toks)\n",
        "  count  = count+1\n",
        "  if (count > (n_tags*0.8)):\n",
        "    break\n",
        "\n",
        "\n",
        "Y_tags = dataGroup[\"Tag_Index\"].to_list()\n",
        "y= []\n",
        "count = 1\n",
        "for tags in Y_tags:\n",
        "  y.append(tags)\n",
        "  count  = count+1\n",
        "  if (count > (n_tags*0.8)):\n",
        "    break\n",
        "print(len(x))\n",
        "num = x[len(x)-2]\n",
        "X_padded = pad_sequences(x , maxlen = maxlength , dtype = 'int32' , padding = 'post' , truncating='post' , value = 22900 )\n",
        "print(len(X_padded))\n",
        "Y_padded = pad_sequences(y , maxlen = maxlength , dtype = 'int32' , padding = 'post', truncating='post' ,value =5 ) \n",
        "\n",
        "n_tags = math.ceil(n_tags*0.8)\n",
        "Y_padded = [to_categorical(1 , num_classes=n_tags) for i in Y_padded]\n",
        "\n",
        "# Training Set (Y_train , X_train , x , y , tag2idx, word2idx )"
      ],
      "execution_count": 14,
      "outputs": [
        {
          "output_type": "stream",
          "text": [
            "10 largest length of a sentence\n",
            "2348\n",
            "2348\n"
          ],
          "name": "stdout"
        }
      ]
    },
    {
      "cell_type": "code",
      "metadata": {
        "colab": {
          "base_uri": "https://localhost:8080/"
        },
        "id": "fFU7nRmuctcO",
        "outputId": "827e8949-87a4-4e0d-c6ba-d660f130a709"
      },
      "source": [
        "print(count)"
      ],
      "execution_count": null,
      "outputs": [
        {
          "output_type": "stream",
          "text": [
            "7376\n"
          ],
          "name": "stdout"
        }
      ]
    },
    {
      "cell_type": "code",
      "metadata": {
        "id": "NLnlO5Rsd_Vt"
      },
      "source": [
        "tokens , test_tokens , tags , test_tag = train_test_split(X_padded , Y_padded , test_size = 0.1 , train_size = 0.9 , random_state = 2020)\n",
        "train_tokens , val_tokens , train_tags , val_tags = train_test_split(tokens , tags , test_size = 0.25 , train_size = 0.75 , random_state = 2020)"
      ],
      "execution_count": null,
      "outputs": []
    },
    {
      "cell_type": "code",
      "metadata": {
        "colab": {
          "base_uri": "https://localhost:8080/"
        },
        "id": "GXAqWYe6jWgb",
        "outputId": "caff0dc6-2642-439f-c415-28ab98a1fda0"
      },
      "source": [
        "\n",
        "#Set the dimensions\n",
        "\n",
        "#Get the input and output size\n",
        "\n",
        "input_dim = 30\n",
        "#Get the size output array \n",
        "\n",
        "output_dim = 30 \n",
        "\n",
        "#Get size tags\n",
        "\n",
        "ntags = math.ceil((n_tags*0.5))\n",
        "size = X_padded.max()+1\n",
        "\n",
        "#Get input length\n",
        "\n",
        "input_length = 10\n",
        "\n",
        "print(\"input dimension: \" , input_dim)\n",
        "print(\"input length :  \" , input_length)\n",
        "print(\"size: \",size )\n",
        "print(\"Output dimension: \", output_dim)"
      ],
      "execution_count": 15,
      "outputs": [
        {
          "output_type": "stream",
          "text": [
            "input dimension:  30\n",
            "input length :   10\n",
            "size:  22901\n",
            "Output dimension:  30\n"
          ],
          "name": "stdout"
        }
      ]
    },
    {
      "cell_type": "code",
      "metadata": {
        "colab": {
          "base_uri": "https://localhost:8080/"
        },
        "id": "Uq7XCVfSuW2f",
        "outputId": "d37d004d-01ed-49aa-8f4f-0f731e6b1a12"
      },
      "source": [
        "#Get max\n",
        "\n",
        "max = 0\n",
        "for x in X_padded:\n",
        "  if (x.max()>max):\n",
        "    max = x.max()\n",
        "\n",
        "print(max)"
      ],
      "execution_count": 16,
      "outputs": [
        {
          "output_type": "stream",
          "text": [
            "22900\n"
          ],
          "name": "stdout"
        }
      ]
    },
    {
      "cell_type": "code",
      "metadata": {
        "colab": {
          "base_uri": "https://localhost:8080/"
        },
        "id": "rkvTd1wZ8pah",
        "outputId": "db64159a-1108-4cd1-f404-66d0ed1e637b"
      },
      "source": [
        "#Build the model\n",
        "\n",
        "import numpy as np\n",
        "import tensorflow\n",
        "from tensorflow.keras import Sequential, Model, Input\n",
        "from tensorflow.keras.layers import LSTM, Embedding, Dense, TimeDistributed, Dropout, Bidirectional,GRU\n",
        "from tensorflow.keras.utils import plot_model\n",
        "from tensorflow.compat.v1 import ConfigProto\n",
        "from tensorflow.compat.v1 import InteractiveSession\n",
        "\n",
        "config = ConfigProto()\n",
        "config.gpu_options.allow_growth = True\n",
        "session = InteractiveSession(config=config)\n",
        "\n",
        "model = Sequential()\n",
        "\n",
        "#Add embedding layer\n",
        "model.add(Embedding(size , 30 , input_length = 30))\n",
        "\n",
        "\n",
        "#Add LSTM Layers\n",
        "model.add(Bidirectional(LSTM(units=output_dim, dropout=0.8, recurrent_dropout=0.8), merge_mode = 'concat'))\n",
        "model.add(Dropout(0.1))\n",
        "model.add(Dense(10 , activation='relu'))\n",
        "model.add(Dropout(0.1))\n",
        "model.add(Dense(51686, activation='softmax'))\n",
        "\n",
        "\n",
        "#GRU LAYERS\n",
        "#model.add(GRU(50, activation = 'sigmoid'))\n",
        "#model.add(Dropout(0.1))\n",
        "#model.add((Dense(32304,activation='softmax')))\n",
        "#model.add(Dropout(0.1))\n",
        "#adam = k.optimizers.Adam(lr=0.0005, beta_1=0.9, beta_2=0.999)\n",
        "\n",
        "#Compile model\n",
        "\n",
        "model.compile(loss='categorical_crossentropy',optimizer='adam' , metrics=['accuracy'] )\n",
        "\n",
        "#Print Summary\n",
        "\n",
        "model.summary()\n",
        "\n"
      ],
      "execution_count": 32,
      "outputs": [
        {
          "output_type": "stream",
          "text": [
            "/usr/local/lib/python3.7/dist-packages/tensorflow/python/client/session.py:1761: UserWarning: An interactive session is already active. This can cause out-of-memory errors in some cases. You must explicitly call `InteractiveSession.close()` to release resources held by the other session(s).\n",
            "  warnings.warn('An interactive session is already active. This can '\n"
          ],
          "name": "stderr"
        },
        {
          "output_type": "stream",
          "text": [
            "Model: \"sequential_10\"\n",
            "_________________________________________________________________\n",
            "Layer (type)                 Output Shape              Param #   \n",
            "=================================================================\n",
            "embedding_10 (Embedding)     (None, 30, 30)            687030    \n",
            "_________________________________________________________________\n",
            "bidirectional_5 (Bidirection (None, 60)                14640     \n",
            "_________________________________________________________________\n",
            "dropout_20 (Dropout)         (None, 60)                0         \n",
            "_________________________________________________________________\n",
            "dense_15 (Dense)             (None, 10)                610       \n",
            "_________________________________________________________________\n",
            "dropout_21 (Dropout)         (None, 10)                0         \n",
            "_________________________________________________________________\n",
            "dense_16 (Dense)             (None, 51686)             568546    \n",
            "=================================================================\n",
            "Total params: 1,270,826\n",
            "Trainable params: 1,270,826\n",
            "Non-trainable params: 0\n",
            "_________________________________________________________________\n"
          ],
          "name": "stdout"
        }
      ]
    },
    {
      "cell_type": "code",
      "metadata": {
        "colab": {
          "base_uri": "https://localhost:8080/",
          "height": 1000
        },
        "id": "-txsIYnEYjMi",
        "outputId": "a810bd76-2901-4ebb-a1ac-d8194036f03d"
      },
      "source": [
        "#Fit Model and plot Graph\n",
        "import matplotlib.pyplot as plt\n",
        "from keras.utils.np_utils import to_categorical\n",
        "\n",
        "\n",
        "history = model.fit(X_padded,np.array(Y_padded) , validation_split= 0.25 ,verbose=1, batch_size = 100 , epochs=20 )\n",
        "\n",
        "\n",
        "\n",
        "def plot_history(history):\n",
        "    acc = history.history['accuracy']\n",
        "   # val_accuracy = history.history['val_accuracy']\n",
        "    loss = history.history['loss']\n",
        "   # val_loss = history.history['val_loss']\n",
        "    x = range(1, len(acc) + 1)\n",
        "\n",
        "    plt.figure(figsize=(12, 5))\n",
        "    plt.subplot(1, 2, 1)\n",
        "    plt.plot(x, acc, 'b', label='Training acc')\n",
        "  #  plt.plot(x, val_acc, 'r', label='Validation acc')\n",
        "    plt.title('Training and validation accuracy')\n",
        "    plt.legend()\n",
        "    plt.subplot(1, 2, 2)\n",
        "    plt.plot(x, loss, 'b', label='Training loss')\n",
        " #   plt.plot(x, val_loss, 'r', label='Validation loss')\n",
        "    plt.title('Training and validation loss')\n",
        "    plt.legend()\n",
        "\n",
        "plot_history(history)"
      ],
      "execution_count": 33,
      "outputs": [
        {
          "output_type": "stream",
          "text": [
            "Epoch 1/20\n",
            "18/18 [==============================] - 12s 321ms/step - loss: 10.8283 - accuracy: 0.9421 - val_loss: 10.7783 - val_accuracy: 1.0000\n",
            "Epoch 2/20\n",
            "18/18 [==============================] - 3s 189ms/step - loss: 10.5116 - accuracy: 1.0000 - val_loss: 9.5709 - val_accuracy: 1.0000\n",
            "Epoch 3/20\n",
            "18/18 [==============================] - 3s 186ms/step - loss: 8.4822 - accuracy: 1.0000 - val_loss: 6.3085 - val_accuracy: 1.0000\n",
            "Epoch 4/20\n",
            "18/18 [==============================] - 3s 189ms/step - loss: 4.1544 - accuracy: 1.0000 - val_loss: 0.7391 - val_accuracy: 1.0000\n",
            "Epoch 5/20\n",
            "18/18 [==============================] - 3s 187ms/step - loss: 0.3916 - accuracy: 1.0000 - val_loss: 0.0049 - val_accuracy: 1.0000\n",
            "Epoch 6/20\n",
            "18/18 [==============================] - 3s 186ms/step - loss: 0.0375 - accuracy: 1.0000 - val_loss: 8.6306e-04 - val_accuracy: 1.0000\n",
            "Epoch 7/20\n",
            "18/18 [==============================] - 3s 190ms/step - loss: 0.0191 - accuracy: 1.0000 - val_loss: 4.9122e-04 - val_accuracy: 1.0000\n",
            "Epoch 8/20\n",
            "18/18 [==============================] - 3s 190ms/step - loss: 0.0160 - accuracy: 1.0000 - val_loss: 3.5743e-04 - val_accuracy: 1.0000\n",
            "Epoch 9/20\n",
            "18/18 [==============================] - 3s 189ms/step - loss: 0.0112 - accuracy: 1.0000 - val_loss: 2.8444e-04 - val_accuracy: 1.0000\n",
            "Epoch 10/20\n",
            "18/18 [==============================] - 3s 190ms/step - loss: 0.0115 - accuracy: 1.0000 - val_loss: 2.3164e-04 - val_accuracy: 1.0000\n",
            "Epoch 11/20\n",
            "18/18 [==============================] - 3s 189ms/step - loss: 0.0124 - accuracy: 1.0000 - val_loss: 1.8577e-04 - val_accuracy: 1.0000\n",
            "Epoch 12/20\n",
            "18/18 [==============================] - 3s 188ms/step - loss: 0.0095 - accuracy: 1.0000 - val_loss: 1.5118e-04 - val_accuracy: 1.0000\n",
            "Epoch 13/20\n",
            "18/18 [==============================] - 3s 188ms/step - loss: 0.0103 - accuracy: 1.0000 - val_loss: 1.2610e-04 - val_accuracy: 1.0000\n",
            "Epoch 14/20\n",
            "18/18 [==============================] - 3s 188ms/step - loss: 0.0055 - accuracy: 1.0000 - val_loss: 1.0566e-04 - val_accuracy: 1.0000\n",
            "Epoch 15/20\n",
            "18/18 [==============================] - 3s 187ms/step - loss: 0.0062 - accuracy: 1.0000 - val_loss: 9.0979e-05 - val_accuracy: 1.0000\n",
            "Epoch 16/20\n",
            "18/18 [==============================] - 3s 189ms/step - loss: 0.0065 - accuracy: 1.0000 - val_loss: 7.7755e-05 - val_accuracy: 1.0000\n",
            "Epoch 17/20\n",
            "18/18 [==============================] - 3s 188ms/step - loss: 0.0084 - accuracy: 1.0000 - val_loss: 6.4739e-05 - val_accuracy: 1.0000\n",
            "Epoch 18/20\n",
            "18/18 [==============================] - 3s 189ms/step - loss: 0.0074 - accuracy: 1.0000 - val_loss: 5.5090e-05 - val_accuracy: 1.0000\n",
            "Epoch 19/20\n",
            "18/18 [==============================] - 3s 189ms/step - loss: 0.0049 - accuracy: 1.0000 - val_loss: 4.7286e-05 - val_accuracy: 1.0000\n",
            "Epoch 20/20\n",
            "18/18 [==============================] - 3s 187ms/step - loss: 0.0058 - accuracy: 1.0000 - val_loss: 4.0681e-05 - val_accuracy: 1.0000\n"
          ],
          "name": "stdout"
        },
        {
          "output_type": "display_data",
          "data": {
            "image/png": "[encoded data removed]",
            "text/plain": [
              "<Figure size 864x360 with 2 Axes>"
            ]
          },
          "metadata": {
            "tags": [],
            "needs_background": "light"
          }
        }
      ]
    },
    {
      "cell_type": "code",
      "metadata": {
        "colab": {
          "base_uri": "https://localhost:8080/",
          "height": 289
        },
        "id": "JKjpOG182UEv",
        "outputId": "0d3c684f-11e7-483b-e0d5-97910e10e107"
      },
      "source": [
        "plot_history(history)"
      ],
      "execution_count": null,
      "outputs": [
        {
          "output_type": "error",
          "ename": "KeyError",
          "evalue": "ignored",
          "traceback": [
            "\u001b[0;31m---------------------------------------------------------------------------\u001b[0m",
            "\u001b[0;31mKeyError\u001b[0m                                  Traceback (most recent call last)",
            "\u001b[0;32m<ipython-input-10-a8489d1127d4>\u001b[0m in \u001b[0;36m<module>\u001b[0;34m()\u001b[0m\n\u001b[0;32m----> 1\u001b[0;31m \u001b[0mplot_history\u001b[0m\u001b[0;34m(\u001b[0m\u001b[0mhistory\u001b[0m\u001b[0;34m)\u001b[0m\u001b[0;34m\u001b[0m\u001b[0;34m\u001b[0m\u001b[0m\n\u001b[0m",
            "\u001b[0;32m<ipython-input-9-cd319dd3c6e3>\u001b[0m in \u001b[0;36mplot_history\u001b[0;34m(history)\u001b[0m\n\u001b[1;32m     10\u001b[0m \u001b[0;32mdef\u001b[0m \u001b[0mplot_history\u001b[0m\u001b[0;34m(\u001b[0m\u001b[0mhistory\u001b[0m\u001b[0;34m)\u001b[0m\u001b[0;34m:\u001b[0m\u001b[0;34m\u001b[0m\u001b[0;34m\u001b[0m\u001b[0m\n\u001b[1;32m     11\u001b[0m     \u001b[0maccuracy\u001b[0m \u001b[0;34m=\u001b[0m \u001b[0mhistory\u001b[0m\u001b[0;34m.\u001b[0m\u001b[0mhistory\u001b[0m\u001b[0;34m[\u001b[0m\u001b[0;34m'accuracy'\u001b[0m\u001b[0;34m]\u001b[0m\u001b[0;34m\u001b[0m\u001b[0;34m\u001b[0m\u001b[0m\n\u001b[0;32m---> 12\u001b[0;31m     \u001b[0mval_accuracy\u001b[0m \u001b[0;34m=\u001b[0m \u001b[0mhistory\u001b[0m\u001b[0;34m.\u001b[0m\u001b[0mhistory\u001b[0m\u001b[0;34m[\u001b[0m\u001b[0;34m'val_acc'\u001b[0m\u001b[0;34m]\u001b[0m\u001b[0;34m\u001b[0m\u001b[0;34m\u001b[0m\u001b[0m\n\u001b[0m\u001b[1;32m     13\u001b[0m     \u001b[0mloss\u001b[0m \u001b[0;34m=\u001b[0m \u001b[0mhistory\u001b[0m\u001b[0;34m.\u001b[0m\u001b[0mhistory\u001b[0m\u001b[0;34m[\u001b[0m\u001b[0;34m'loss'\u001b[0m\u001b[0;34m]\u001b[0m\u001b[0;34m\u001b[0m\u001b[0;34m\u001b[0m\u001b[0m\n\u001b[1;32m     14\u001b[0m     \u001b[0mval_loss\u001b[0m \u001b[0;34m=\u001b[0m \u001b[0mhistory\u001b[0m\u001b[0;34m.\u001b[0m\u001b[0mhistory\u001b[0m\u001b[0;34m[\u001b[0m\u001b[0;34m'val_loss'\u001b[0m\u001b[0;34m]\u001b[0m\u001b[0;34m\u001b[0m\u001b[0;34m\u001b[0m\u001b[0m\n",
            "\u001b[0;31mKeyError\u001b[0m: 'val_acc'"
          ]
        }
      ]
    },
    {
      "cell_type": "code",
      "metadata": {
        "id": "UEhb34i2mRNj"
      },
      "source": [
        "#Evaluation of model\n",
        "from sklearn.metrics import precision_score, recall_score, f1_score, classification_report\n",
        "\n",
        "\n",
        "from sklearn.preprocessing import MultiLabelBinarizer\n",
        "#from sklearn.metrics import classification_report\n",
        "\n",
        "tag2idx = dataGroup[\"Tag_Index\"]\n",
        "idx2tag = t\n",
        "\n",
        "X_test = X_padded\n",
        "test_pred = np.around(model.predict(X_padded))\n",
        "\n",
        "\n",
        "\n",
        "classes = np.unique(idx2tag)\n",
        "classes = classes.tolist()\n",
        "new_classes = classes.pop()#remove the most common class\n",
        "\n",
        "\n",
        "print(classification_report( y , test_pred))\n"
      ],
      "execution_count": null,
      "outputs": []
    },
    {
      "cell_type": "code",
      "metadata": {
        "id": "q-QCm-tzxvS4"
      },
      "source": [
        "\n",
        "model.add(Embedding(input_dim=size-1, output_dim=output_dim, input_length=10))\n",
        "\n"
      ],
      "execution_count": null,
      "outputs": []
    }
  ]
}
